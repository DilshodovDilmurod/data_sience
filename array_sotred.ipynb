{
  "nbformat": 4,
  "nbformat_minor": 0,
  "metadata": {
    "colab": {
      "provenance": [],
      "toc_visible": true,
      "authorship_tag": "ABX9TyOspgQLq8688kRIMI9zrYXm",
      "include_colab_link": true
    },
    "kernelspec": {
      "name": "python3",
      "display_name": "Python 3"
    },
    "language_info": {
      "name": "python"
    }
  },
  "cells": [
    {
      "cell_type": "markdown",
      "metadata": {
        "id": "view-in-github",
        "colab_type": "text"
      },
      "source": [
        "<a href=\"https://colab.research.google.com/github/DilshodovDilmurod/data_sience/blob/main/array_sotred.ipynb\" target=\"_parent\"><img src=\"https://colab.research.google.com/assets/colab-badge.svg\" alt=\"Open In Colab\"/></a>"
      ]
    },
    {
      "cell_type": "code",
      "execution_count": 2,
      "metadata": {
        "id": "CpBKio3WHJdW"
      },
      "outputs": [],
      "source": [
        "import numpy as np"
      ]
    },
    {
      "cell_type": "code",
      "source": [
        "arr = np.random.rand(6)\n",
        "arr"
      ],
      "metadata": {
        "colab": {
          "base_uri": "https://localhost:8080/"
        },
        "id": "gSb1IqsPQM5-",
        "outputId": "6da484a2-610b-4637-a60c-7120455df95a"
      },
      "execution_count": null,
      "outputs": [
        {
          "output_type": "execute_result",
          "data": {
            "text/plain": [
              "array([0.96776679, 0.28624787, 0.83580299, 0.10852349, 0.87070524,\n",
              "       0.8021062 ])"
            ]
          },
          "metadata": {},
          "execution_count": 5
        }
      ]
    },
    {
      "cell_type": "code",
      "source": [
        "sorted_arr = np.sort(arr) # arr massivdan nusxa olgan holda tartiblanadi"
      ],
      "metadata": {
        "id": "5YxyALcaqWjN"
      },
      "execution_count": null,
      "outputs": []
    },
    {
      "cell_type": "code",
      "source": [
        "sorted_arr"
      ],
      "metadata": {
        "colab": {
          "base_uri": "https://localhost:8080/"
        },
        "id": "BOxGyWJSqfNQ",
        "outputId": "1a2528e1-5505-4083-ca2d-84c836b700e3"
      },
      "execution_count": null,
      "outputs": [
        {
          "output_type": "execute_result",
          "data": {
            "text/plain": [
              "array([0.10852349, 0.28624787, 0.8021062 , 0.83580299, 0.87070524,\n",
              "       0.96776679])"
            ]
          },
          "metadata": {},
          "execution_count": 7
        }
      ]
    },
    {
      "cell_type": "code",
      "source": [
        "arr.sort() # arr massivni tartiblash uchun ishlatiladi"
      ],
      "metadata": {
        "id": "iZthgz28qp7N"
      },
      "execution_count": null,
      "outputs": []
    },
    {
      "cell_type": "code",
      "source": [
        "arr"
      ],
      "metadata": {
        "colab": {
          "base_uri": "https://localhost:8080/"
        },
        "id": "gz1yhliqsQzX",
        "outputId": "338d2a87-73e6-4ca3-b78d-851ea7f07293"
      },
      "execution_count": null,
      "outputs": [
        {
          "output_type": "execute_result",
          "data": {
            "text/plain": [
              "array([0.10852349, 0.28624787, 0.8021062 , 0.83580299, 0.87070524,\n",
              "       0.96776679])"
            ]
          },
          "metadata": {},
          "execution_count": 9
        }
      ]
    },
    {
      "cell_type": "code",
      "source": [
        "row_arr = -np.sort(-arr)\n",
        "row_arr  # massivni teskari tartiblash uchun ishlatilladi"
      ],
      "metadata": {
        "colab": {
          "base_uri": "https://localhost:8080/"
        },
        "id": "3GoYFWe3sSHQ",
        "outputId": "f38a7237-5f67-4625-82a0-14704ac90e4b"
      },
      "execution_count": null,
      "outputs": [
        {
          "output_type": "execute_result",
          "data": {
            "text/plain": [
              "array([0.96776679, 0.87070524, 0.83580299, 0.8021062 , 0.28624787,\n",
              "       0.10852349])"
            ]
          },
          "metadata": {},
          "execution_count": 10
        }
      ]
    },
    {
      "cell_type": "code",
      "source": [
        "arr2d = np.random.randn(2, 4)\n",
        "arr2d"
      ],
      "metadata": {
        "colab": {
          "base_uri": "https://localhost:8080/"
        },
        "id": "ltiqXxhhssym",
        "outputId": "4879a91c-234d-45a1-ce0c-7f278802eae7"
      },
      "execution_count": null,
      "outputs": [
        {
          "output_type": "execute_result",
          "data": {
            "text/plain": [
              "array([[ 0.32144168,  0.83735106, -0.37983675,  0.35016163],\n",
              "       [ 0.45514863, -0.5312452 ,  1.09356815, -2.41577345]])"
            ]
          },
          "metadata": {},
          "execution_count": 11
        }
      ]
    },
    {
      "cell_type": "code",
      "source": [
        "row_srt = np.sort(arr2d, axis=0 )   # arr2d ning xar bir ustun  bo'yicha tartiblangan ko'rinishi\n",
        "row_srt"
      ],
      "metadata": {
        "colab": {
          "base_uri": "https://localhost:8080/"
        },
        "id": "IaPcDtUct02Y",
        "outputId": "91b42e6a-c6ab-4561-8e97-69710fccb11f"
      },
      "execution_count": null,
      "outputs": [
        {
          "output_type": "execute_result",
          "data": {
            "text/plain": [
              "array([[ 0.32144168, -0.5312452 , -0.37983675, -2.41577345],\n",
              "       [ 0.45514863,  0.83735106,  1.09356815,  0.35016163]])"
            ]
          },
          "metadata": {},
          "execution_count": 12
        }
      ]
    },
    {
      "cell_type": "code",
      "source": [
        "row_str1 = np.sort(arr2d, axis=1)   # arr2d  har bir qator boyicha tartiblangan korinishi\n",
        "row_str1"
      ],
      "metadata": {
        "colab": {
          "base_uri": "https://localhost:8080/"
        },
        "id": "2AD4sGVMuMln",
        "outputId": "82f0ff33-12a4-4f0d-9370-17053e08ae4e"
      },
      "execution_count": null,
      "outputs": [
        {
          "output_type": "execute_result",
          "data": {
            "text/plain": [
              "array([[-0.37983675,  0.32144168,  0.35016163,  0.83735106],\n",
              "       [-2.41577345, -0.5312452 ,  0.45514863,  1.09356815]])"
            ]
          },
          "metadata": {},
          "execution_count": 13
        }
      ]
    },
    {
      "cell_type": "code",
      "source": [
        "names = (['Dilmurod', 'Nosir', 'Ilhom', 'Ilhom', 'Temur', 'Elomon'])\n",
        "ints = ([1, 2, 1, 1, 3, 3, 4, 4, 4, 1, 3])"
      ],
      "metadata": {
        "id": "LuNBH41dup4Y"
      },
      "execution_count": null,
      "outputs": []
    },
    {
      "cell_type": "code",
      "source": [
        " np.unique(names)  # names dagi takrorlanmas elementlar"
      ],
      "metadata": {
        "colab": {
          "base_uri": "https://localhost:8080/"
        },
        "id": "ZesVCcTl9vLZ",
        "outputId": "131bd751-5b6e-4155-b8d7-dd08f7af0df7"
      },
      "execution_count": null,
      "outputs": [
        {
          "output_type": "execute_result",
          "data": {
            "text/plain": [
              "array(['Dilmurod', 'Elomon', 'Ilhom', 'Nosir', 'Temur'], dtype='<U8')"
            ]
          },
          "metadata": {},
          "execution_count": 25
        }
      ]
    },
    {
      "cell_type": "code",
      "source": [
        "names"
      ],
      "metadata": {
        "colab": {
          "base_uri": "https://localhost:8080/"
        },
        "id": "p6A6ZrFz98Rx",
        "outputId": "0d795fc9-6b88-403c-e079-4e21b59beee4"
      },
      "execution_count": null,
      "outputs": [
        {
          "output_type": "execute_result",
          "data": {
            "text/plain": [
              "['Dilmurod', 'Nosir', 'Ilhom', 'Ilhom', 'Temur', 'Elomon']"
            ]
          },
          "metadata": {},
          "execution_count": 26
        }
      ]
    },
    {
      "cell_type": "code",
      "source": [
        "set(names) # names dagi takrorlanmas elementlar"
      ],
      "metadata": {
        "colab": {
          "base_uri": "https://localhost:8080/"
        },
        "id": "5UQsUjm4-lLR",
        "outputId": "ee6e51cb-a43c-45fe-a786-ed512299f591"
      },
      "execution_count": null,
      "outputs": [
        {
          "output_type": "execute_result",
          "data": {
            "text/plain": [
              "{'Dilmurod', 'Elomon', 'Ilhom', 'Nosir', 'Temur'}"
            ]
          },
          "metadata": {},
          "execution_count": 27
        }
      ]
    },
    {
      "cell_type": "code",
      "source": [
        "arr = np.random.rand(2,4)\n",
        "arr1 = np.random.randn(2,4)\n",
        "arr1"
      ],
      "metadata": {
        "colab": {
          "base_uri": "https://localhost:8080/"
        },
        "id": "IrBkFbpx-4yu",
        "outputId": "05cd787e-eb5b-4334-ef21-30d17168df63"
      },
      "execution_count": 5,
      "outputs": [
        {
          "output_type": "execute_result",
          "data": {
            "text/plain": [
              "array([[ 0.12763427,  0.06684089, -0.21247982,  0.68909363],\n",
              "       [-1.01401543, -0.28875451, -2.22945544, -0.37083176]])"
            ]
          },
          "metadata": {},
          "execution_count": 5
        }
      ]
    },
    {
      "cell_type": "code",
      "source": [
        "arr"
      ],
      "metadata": {
        "colab": {
          "base_uri": "https://localhost:8080/"
        },
        "id": "Ng1Nu5Gt_k7d",
        "outputId": "6e6a42d7-0a83-4292-e238-91801459f223"
      },
      "execution_count": null,
      "outputs": [
        {
          "output_type": "execute_result",
          "data": {
            "text/plain": [
              "array([[0.93581757, 0.4171269 , 0.3571666 , 0.2703855 ],\n",
              "       [0.73520945, 0.6365505 , 0.94827276, 0.34516456]])"
            ]
          },
          "metadata": {},
          "execution_count": 29
        }
      ]
    },
    {
      "cell_type": "code",
      "source": [
        "arr2 = np.random.randn(4)\n",
        "arr2"
      ],
      "metadata": {
        "colab": {
          "base_uri": "https://localhost:8080/"
        },
        "id": "bIfiw4DK_sHa",
        "outputId": "9453ac55-aad6-4801-833a-a4e58041f643"
      },
      "execution_count": 3,
      "outputs": [
        {
          "output_type": "execute_result",
          "data": {
            "text/plain": [
              "array([ 0.79265298, -0.33660852,  0.58025418,  0.79311755])"
            ]
          },
          "metadata": {},
          "execution_count": 3
        }
      ]
    },
    {
      "cell_type": "code",
      "source": [
        "np.in1d(arr1, arr2) # arr2 dagi elementlarni arr1 da mavjudligini tekshirish"
      ],
      "metadata": {
        "id": "oEqkEmvp_3r5",
        "colab": {
          "base_uri": "https://localhost:8080/"
        },
        "outputId": "77572b29-33f3-42bf-aecd-6d93f6ca7eec"
      },
      "execution_count": 6,
      "outputs": [
        {
          "output_type": "execute_result",
          "data": {
            "text/plain": [
              "array([False, False, False, False, False, False, False, False])"
            ]
          },
          "metadata": {},
          "execution_count": 6
        }
      ]
    },
    {
      "cell_type": "code",
      "source": [
        "names1 = np.array(['Aziz', 'jurat', 'bobur', 'Abror'])\n",
        "names2 = np.array(['Jahongir', ' hamid', 'renat', ' Abror'])"
      ],
      "metadata": {
        "id": "K3emlcdReI5g"
      },
      "execution_count": 7,
      "outputs": []
    },
    {
      "cell_type": "code",
      "source": [
        "np.setdiff1d(names1, names2) # names1 massiv ning names2 massivdagi takrorlanmas qiymatini qaytaradi"
      ],
      "metadata": {
        "colab": {
          "base_uri": "https://localhost:8080/"
        },
        "id": "7jE5WCLXhATz",
        "outputId": "4d99f0d6-a8ae-41d0-9740-d6496974ecf3"
      },
      "execution_count": 8,
      "outputs": [
        {
          "output_type": "execute_result",
          "data": {
            "text/plain": [
              "array(['Abror', 'Aziz', 'bobur', 'jurat'], dtype='<U5')"
            ]
          },
          "metadata": {},
          "execution_count": 8
        }
      ]
    }
  ]
}