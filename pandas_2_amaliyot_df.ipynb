{
  "cells": [
    {
      "cell_type": "markdown",
      "metadata": {
        "id": "view-in-github",
        "colab_type": "text"
      },
      "source": [
        "<a href=\"https://colab.research.google.com/github/DilshodovDilmurod/data_sience/blob/main/pandas_2_amaliyot_df.ipynb\" target=\"_parent\"><img src=\"https://colab.research.google.com/assets/colab-badge.svg\" alt=\"Open In Colab\"/></a>"
      ]
    },
    {
      "cell_type": "markdown",
      "metadata": {
        "id": "WyTfPJtEqH5C"
      },
      "source": [
        "# ![Imgur](https://i.imgur.com/5pXzCIu.png)\n",
        "\n",
        "# **DATA SCIENCE VA SUN'IY INTELLEKT PRAKTIKUM**\n",
        "\n",
        "## Ma'lumotlar tahlili. Pandas kutubxonasi.\n",
        "\n",
        "# **AMALIYOT**\n",
        "## DataFrame"
      ]
    },
    {
      "cell_type": "markdown",
      "metadata": {
        "id": "FNLOb9yhxI0b"
      },
      "source": [
        "### **1-mashq**. `Pandas` kutubxonasini `pd`, `numpy` kutubxonasini `np` deb chaqirib oling"
      ]
    },
    {
      "cell_type": "code",
      "execution_count": 1,
      "metadata": {
        "id": "GrbBfqRpxIFr"
      },
      "outputs": [],
      "source": [
        "# Javobni shuyerga yozing\n",
        "import pandas as pd\n",
        "import numpy as np\n",
        "from pandas import DataFrame"
      ]
    },
    {
      "cell_type": "markdown",
      "metadata": {
        "id": "QJT0KIgcN79b"
      },
      "source": [
        "### **2-mashq.** Quyida ko'rsatilgan dataframeni yarating va `df` deb nomlang"
      ]
    },
    {
      "cell_type": "code",
      "execution_count": null,
      "metadata": {
        "code_folding": [],
        "id": "6WL4EWf3l7vL"
      },
      "outputs": [],
      "source": [
        "# Javobni shuyerga yozing\n",
        "viloyatlar = [\n",
        "    'Andijon', 'Buxoro', \"Farg'ona\", 'Jizzax', 'Xorazm', 'Namangan', 'Navoiy', 'Qashqadaryo', \"Qorqalpog'iston Respublikasi\", 'Samarqand', 'Sirdaryo', 'Surxondaryo', 'Toshkent'\n",
        "]\n",
        "markaz=[\n",
        "    'Andijon shahri',\n",
        "    'BUxoro shahri',\n",
        "    'Fargona shahri',\n",
        "    'Jizzax shahri',\n",
        "    'Urganch shahri',\n",
        "    'Namangan shahri',\n",
        "    'Navoiy',\n",
        "    'Qarshi shahri',\n",
        "    'Nukus shahri',\n",
        "    'Samarqand shahri',\n",
        "    'Guliston shahri',\n",
        "    'Termiz shahri',\n",
        "    'Nurafshon shahri'\n",
        "]\n",
        "maydoni = [\n",
        "    4200,\n",
        "    39400,\n",
        "    6800,\n",
        "    20500,\n",
        "    6300,\n",
        "    7900,\n",
        "    110800,\n",
        "    28400,\n",
        "    160000,\n",
        "    16400,\n",
        "    5100,\n",
        "    20800,\n",
        "    15300\n",
        "]\n",
        "Aholisi = [\n",
        "    1899000,\n",
        "    1384700,\n",
        "    2597000,\n",
        "    910500,\n",
        "    1200000,\n",
        "    1862000,\n",
        "    767500,\n",
        "    2029000,\n",
        "    1200000,\n",
        "    2322000,\n",
        "    648100,\n",
        "    1676000,\n",
        "    4450000\n",
        "]\n",
        "data = {\n",
        "    'Hudud': viloyatlar,\n",
        "    'Markaz':markaz,\n",
        "    'Maydoni':maydoni,\n",
        "    'Aholisi':Aholisi\n",
        "}\n",
        "df = pd.DataFrame(data)\n",
        "df"
      ]
    },
    {
      "cell_type": "markdown",
      "metadata": {
        "id": "SG_Cc0nux8p0"
      },
      "source": [
        "### **2-mashq.** Yuqoridagi df ning yuqorisidan 5 ta qator chiqaring"
      ]
    },
    {
      "cell_type": "code",
      "execution_count": null,
      "metadata": {
        "id": "g0xfrBXdx8p0"
      },
      "outputs": [],
      "source": [
        "# Javobni shuyerga yozing\n",
        "df.head()"
      ]
    },
    {
      "cell_type": "markdown",
      "metadata": {
        "id": "7-cUe10fx8p1"
      },
      "source": [
        "### **3-mashq.** Yuqoridagi df dan tasodifiy 3 ta qator chiqaring"
      ]
    },
    {
      "cell_type": "code",
      "execution_count": null,
      "metadata": {
        "id": "7urX3zZjx8p1"
      },
      "outputs": [],
      "source": [
        "# Javobni shuyerga yozing\n",
        "df.sample(3) # .sample tasodifiy qiymat tanlab beradi"
      ]
    },
    {
      "cell_type": "markdown",
      "metadata": {
        "id": "rrz-4mcQx8p2"
      },
      "source": [
        "### **4-mashq.** Yuqoridagi df ning 'Hudud' va 'Aholisi' ustinlarini alohida df ko'rinishida chiqaring"
      ]
    },
    {
      "cell_type": "code",
      "execution_count": null,
      "metadata": {
        "id": "fjgBL7hox8p2"
      },
      "outputs": [],
      "source": [
        "# Javobni shuyerga yozing\n",
        "df[['Hudud','Aholisi']] # DAtaFrame koriinishida beradi"
      ]
    },
    {
      "cell_type": "markdown",
      "metadata": {
        "id": "JM9DsEBnx8p2"
      },
      "source": [
        "### **5-mashq.** Yuqoridagi df ning `Markaz` ustunini Series obyekti ko'rinishida chiqaring"
      ]
    },
    {
      "cell_type": "code",
      "execution_count": null,
      "metadata": {
        "id": "spNvm5o3x8p3"
      },
      "outputs": [],
      "source": [
        "# Javobni shuyerga yozing\n",
        "df['Markaz']  # Series malumot turini qaytaradi"
      ]
    },
    {
      "cell_type": "markdown",
      "metadata": {
        "id": "nI2o4WjUx8p3"
      },
      "source": [
        "### **6-mashq.** Yuqoridagi df dan aholi soni 2 milliondan oshiq bo'lgan hududlarni chiqaring"
      ]
    },
    {
      "cell_type": "code",
      "execution_count": null,
      "metadata": {
        "id": "MZR6rolkx8p3"
      },
      "outputs": [],
      "source": [
        "# Javobni shuyerga yozing\n",
        "df[df.Aholisi>2000000] # aholisini  filtir qilish"
      ]
    },
    {
      "cell_type": "markdown",
      "metadata": {
        "id": "KvHm2B4xx8p3"
      },
      "source": [
        "### **7-mashq.** Yuqoridagi df dan maydoni 10000kv.km dan kichik bo'lgan hududlarni chiqaring"
      ]
    },
    {
      "cell_type": "code",
      "execution_count": null,
      "metadata": {
        "id": "hVHIbimAx8p3"
      },
      "outputs": [],
      "source": [
        "# Javobni shuyerga yozing\n",
        "df[df.Maydoni<10000]"
      ]
    },
    {
      "cell_type": "markdown",
      "metadata": {
        "id": "iljLXIyYx8p4"
      },
      "source": [
        "### **8-mashq.** Yuqoridagi df ning birinchi ustunini df ning indeksi sifatida ishlating\n",
        "Ishora:\n",
        "1. Yoki df ni qayta yarating\n",
        "2. Yoki `set_index()` metodidan foydalaning"
      ]
    },
    {
      "cell_type": "code",
      "execution_count": null,
      "metadata": {
        "id": "QnaAC_pRx8p4"
      },
      "outputs": [],
      "source": [
        "# Javobni shuyerga yozing\n",
        "df.set_index('Hudud', inplace = True)  # .set_index()  qayta indexlash\n",
        "df"
      ]
    },
    {
      "cell_type": "markdown",
      "metadata": {
        "id": "Br5SPbLqx8p4"
      },
      "source": [
        "### **9-mashq.** Yuqoridagi df dan, Aholisi 2 milliondan oshiq hududlar orasida Samarqand viloyati bor yoki yo'qligini tekshiring"
      ]
    },
    {
      "cell_type": "code",
      "execution_count": null,
      "metadata": {
        "id": "z7yowrOgx8p4"
      },
      "outputs": [],
      "source": [
        "# Javobni shuyerga yozing\n",
        "'Samarqand' in df[df.Aholisi>2000000].index"
      ]
    },
    {
      "cell_type": "markdown",
      "metadata": {
        "id": "5ur0Q07Ox8p4"
      },
      "source": [
        "### **10-mashq.**  Yuqoridagi df dan faqatgina Andijon, Farg'ona va Namangan viloyatlarini ajratib ko'rsating"
      ]
    },
    {
      "cell_type": "code",
      "execution_count": null,
      "metadata": {
        "id": "8WkAjSgJx8p5"
      },
      "outputs": [],
      "source": [
        "# Javobni shuyerga yozing\n",
        "df.loc[['Andijon', \"Farg'ona\", 'Namangan']]"
      ]
    },
    {
      "cell_type": "markdown",
      "metadata": {
        "id": "yVVgDUiMx8p5"
      },
      "source": [
        "### **11-mashq.**  Yuqoridagi df dan Samarqanda va Toshkent viloyatlarining aholisi va maydonini alohida df ko'rinishida chiqaring"
      ]
    },
    {
      "cell_type": "code",
      "execution_count": null,
      "metadata": {
        "id": "qlUX53t2x8p5"
      },
      "outputs": [],
      "source": [
        "# Javobni shuyerga yozing\n",
        "df.loc[['Samarqand', 'Toshkent'], ['Maydoni', 'Aholisi']]"
      ]
    },
    {
      "cell_type": "markdown",
      "metadata": {
        "id": "dZJVfCLsx8p5"
      },
      "source": [
        "### **12-mashq.**  Yuqoridagi df dan yangi df_new DataFrame yarating. Yangi dataframega faqatgina aholisi 1.5mln dan kam bo'lgan hududlarni ko'chiring."
      ]
    },
    {
      "cell_type": "code",
      "execution_count": null,
      "metadata": {
        "id": "IC4GXU8Rx8p5"
      },
      "outputs": [],
      "source": [
        "# Javobni shuyerga yozing\n",
        "df_new = df[df.Aholisi<1500000]\n",
        "df_new"
      ]
    },
    {
      "cell_type": "markdown",
      "metadata": {
        "id": "yC4GoZipx8qD"
      },
      "source": [
        "### **13-mashq.**  Yangi df qatorlari orasida Navoiy, Namangan va Xorazm viloyatlari borligini tekshiring"
      ]
    },
    {
      "cell_type": "code",
      "execution_count": null,
      "metadata": {
        "id": "VNK-MwQnx8qD"
      },
      "outputs": [],
      "source": [
        "# Javobni shuyerga yozing\n",
        "pd.Index([\"Navoiy\", \"Namangan\", \"Xorazm\"]).isin(df_new.index)\n",
        "\n"
      ]
    },
    {
      "cell_type": "markdown",
      "metadata": {
        "id": "fEpTwFt9x8qD"
      },
      "source": [
        "### **14-mashq.**  Aholisi 1milliondan ko'p, lekin maydoni 10000kv.km dan kam hududlarni chiqaring"
      ]
    },
    {
      "cell_type": "code",
      "execution_count": null,
      "metadata": {
        "id": "clpXFbx4x8qD"
      },
      "outputs": [],
      "source": [
        "# Javobni shuyerga yozing\n",
        "df0 = df[df.Aholisi>1000000]\n",
        "df0[df0.Maydoni<10000]"
      ]
    },
    {
      "cell_type": "markdown",
      "metadata": {
        "id": "iBra3bxmx8qD"
      },
      "source": [
        "### **15-mashq.**  Aholisi 1milliondan kam, lekin maydoni 10000kv.km dan ko'p hududlarni chiqaring"
      ]
    },
    {
      "cell_type": "code",
      "execution_count": null,
      "metadata": {
        "id": "CNMh5Olhx8qD"
      },
      "outputs": [],
      "source": [
        "# Javobni shuyerga yozing\n",
        "df0 = df[df.Aholisi<1000000]\n",
        "df0[df0.Maydoni>10000]"
      ]
    },
    {
      "cell_type": "markdown",
      "metadata": {
        "id": "3MPQXeJXx8qE"
      },
      "source": [
        "### **16-mashq.**  Yuqoridagi df dan `Markaz` ustunini tashlab yuboring"
      ]
    },
    {
      "cell_type": "code",
      "execution_count": null,
      "metadata": {
        "id": "D1GD23Fpx8qE"
      },
      "outputs": [],
      "source": [
        "# Javobni shuyerga yozing\n",
        "df.drop([\"Markaz\"], axis=1)"
      ]
    },
    {
      "cell_type": "markdown",
      "metadata": {
        "id": "jaNBEXNKx8qE"
      },
      "source": [
        "### **17-mashq.**  Yuqoridagi df dan Sirdaryo viloyati aholisini chiqaring"
      ]
    },
    {
      "cell_type": "code",
      "execution_count": null,
      "metadata": {
        "id": "ZRgp72bxx8qE"
      },
      "outputs": [],
      "source": [
        "# Javobni shuyerga yozing\n",
        "df.at[\"Sirdaryo\", \"Aholisi\"]"
      ]
    },
    {
      "cell_type": "markdown",
      "metadata": {
        "id": "JJ0FUlQ_x8qE"
      },
      "source": [
        "### **18-mashq.**  Yuqoridagi df dan Buxoro viloyati maydonini chiqaring"
      ]
    },
    {
      "cell_type": "code",
      "execution_count": null,
      "metadata": {
        "id": "t0nTDWnyx8qE"
      },
      "outputs": [],
      "source": [
        "# Javobni shuyerga yozing\n",
        "df.at[\"Buxoro\", \"Maydoni\"]"
      ]
    },
    {
      "cell_type": "markdown",
      "metadata": {
        "id": "4qQl6p87x8qE"
      },
      "source": [
        "### **19-mashq.**  Yuqoridagi df dan Toshkent viloyati maydoni O'zbekiston Respublikasining necha fozini tashkil qilishini toping"
      ]
    },
    {
      "cell_type": "code",
      "execution_count": null,
      "metadata": {
        "id": "GNtMGUWax8qE"
      },
      "outputs": [],
      "source": [
        "# Javobni shuyerga yozing\n",
        "print(f\"Toshkent viloyatining maydoni:\", df.at[\"Toshkent\", \"Maydoni\"],\"kv.km\")\n",
        "print(f\"O'zbekiston Respublikasi maydoni:\", df.Maydoni.sum(),\"kv.km\")\n",
        "print(f\"Toshkent viloyatining maydoni O'zbekiston Respublikasing\", int(df.at[\"Toshkent\", \"Maydoni\"]*100/df.Maydoni.sum()),\"% ni tashkil etadi\" )"
      ]
    },
    {
      "cell_type": "markdown",
      "metadata": {
        "id": "ZO2juvROx8qE"
      },
      "source": [
        "### **20-mashq.**  Yuqoridagi df dan Toshkent viloyati aholisi O'zbekiston Respublikasining necha fozini tashkil qilishini toping"
      ]
    },
    {
      "cell_type": "code",
      "execution_count": null,
      "metadata": {
        "id": "MUJE6HeEx8qE"
      },
      "outputs": [],
      "source": [
        "# Javobni shuyerga yozing\n",
        "print(f\"Toshkent viloyatining aholisi:\", df.at[\"Toshkent\", \"Aholisi\"],\"kishi\")\n",
        "print(f\"O'zbekiston Respublikasi Aholisi:\", df.Aholisi.sum(),\"kishi\")\n",
        "print(f\"Toshkent viloyatining aholisi O'zbekiston Respublikasing\", int(df.at[\"Toshkent\", \"Aholisi\"]*100/df.Aholisi.sum()),\"% ni tashkil etadi\" )"
      ]
    }
  ],
  "metadata": {
    "colab": {
      "provenance": [],
      "include_colab_link": true
    },
    "kernelspec": {
      "display_name": "Python 3",
      "language": "python",
      "name": "python3"
    },
    "language_info": {
      "codemirror_mode": {
        "name": "ipython",
        "version": 3
      },
      "file_extension": ".py",
      "mimetype": "text/x-python",
      "name": "python",
      "nbconvert_exporter": "python",
      "pygments_lexer": "ipython3",
      "version": "3.8.8"
    }
  },
  "nbformat": 4,
  "nbformat_minor": 0
}